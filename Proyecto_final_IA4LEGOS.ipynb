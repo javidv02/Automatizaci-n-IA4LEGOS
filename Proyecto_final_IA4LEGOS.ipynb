{
  "nbformat": 4,
  "nbformat_minor": 0,
  "metadata": {
    "colab": {
      "provenance": [],
      "private_outputs": true,
      "include_colab_link": true
    },
    "kernelspec": {
      "name": "python3",
      "display_name": "Python 3"
    },
    "language_info": {
      "name": "python"
    }
  },
  "cells": [
    {
      "cell_type": "markdown",
      "metadata": {
        "id": "view-in-github",
        "colab_type": "text"
      },
      "source": [
        "<a href=\"https://colab.research.google.com/github/javidv02/Automatizacion-IA4LEGOS/blob/main/Proyecto_final_IA4LEGOS.ipynb\" target=\"_parent\"><img src=\"https://colab.research.google.com/assets/colab-badge.svg\" alt=\"Open In Colab\"/></a>"
      ]
    },
    {
      "cell_type": "markdown",
      "source": [
        "# **Proyecto final Automatización en python IA4LEGOS 2024**\n",
        "\n",
        "## Introducción\n",
        "\n",
        "Buenas, soy Javier Maciá, un alumno del grado en estadística empresarial de la universidad Miguel Hernández de Elche. Últimamente estoy interesado en el mundillo de la inteligencia artificial y automatización, sobretodo en los grandes modelos de lenguaje, los sistemas RAG, agentes, fine tunning, etc.\n",
        "\n",
        "Por el momento estoy más centrado en los sistemas RAG dado que me resulta intrigante obtener información en un par de consultas con un ordenador, resulta de lo más curioso.\n",
        "\n",
        "En este curso nos han dado cancha para hacer el proyecto de lo que queramos siempre y cuando se automatice algo con los recursos proporcionados en las sesiones.\n",
        "\n",
        "Es por esto que he centrado la mira en la obtención de información mediante api y web-scraping, información con la que alimentar un sistema RAG.\n",
        "\n",
        "Hoy en día existe una cantidad ingente de información y la obtención de la misma es cada vez algo más tedioso, ya sea por demasiada cantidad fuentes, veracidad, anuncios, paginas de pago, clickbait, etc. Asumir toda esa información conlleva un trabajo de investigación que con las herramientas de hoy en día se puede optimizar. En este proyecto se resolverá aparentemente este problema.\n"
      ],
      "metadata": {
        "id": "X0b0VFRX219n"
      }
    },
    {
      "cell_type": "markdown",
      "source": [
        "## Objetivo\n",
        "El objetivo del proyecto es poder obtener información sobre cualquier tema de cualquier web en cuestión de segundos y poder consultar esa información mediante chat.\n",
        "\n",
        "El proyecto se dividirá en tres partes:\n",
        "1. Obtención de informació mediante web scraping.\n",
        "2. Obtención de información mediante api\n",
        "3. Creación de un sistema RAG.\n",
        "\n",
        "El resultado final será la unión de los métodos de obtención de información, priorizando la api. Con esto se creará un asistente al que se le proporcionará una consulta de tipo string y devolverá dos documentos, un archivo docx estilizado y un pdf en el directorio especificado de drive. El archivo docx es por si el usuario quiere leer el documento y el pdf se utiliza para la posterior consulta en el sistema RAG.\n",
        "\n",
        "Una vez introducido el proyecto, nos ponemos manos a la obra."
      ],
      "metadata": {
        "id": "fyLUIMxMIxgl"
      }
    },
    {
      "cell_type": "markdown",
      "source": [
        "# 1. Instalación y carga de librerías\n",
        "\n",
        "Lo primero es empezar por los cimientos.\n",
        "\n",
        "## Módulos empleados para la obtención de información:\n",
        "\n",
        "1. **requests**  \n",
        "   Este módulo se utiliza para hacer solicitudes HTTP en Python. Es útil para interactuar con APIs y descargar contenido de la web.\n",
        "\n",
        "2. **bs4**  \n",
        "   Beautiful Soup (bs4) es una biblioteca para extraer datos de archivos HTML y XML. Es comúnmente usada para web scraping.\n",
        "\n",
        "3. **datetime**  \n",
        "   Proporciona clases para manipular fechas y horas. Es útil para realizar operaciones con tiempos y fechas en Python.\n",
        "\n",
        "4. **PyPDF2**  \n",
        "   Una biblioteca para manipular archivos PDF. Permite leer, modificar y escribir documentos PDF.\n",
        "\n",
        "5. **python-docx**  \n",
        "   Se utiliza para crear, modificar y extraer información de archivos de Microsoft Word (.docx).\n",
        "\n",
        "6. **selenium**  \n",
        "   Selenium es una herramienta para la automatización de navegadores web. Es utilizada para pruebas automáticas de aplicaciones web y web scraping.\n",
        "\n",
        "7. **groq**  \n",
        "   Groq es una herramienta para escribir y ejecutar consultas en bases de datos Groq. (Nota: Verificar la documentación específica para más detalles, ya que puede no ser un módulo comúnmente conocido).\n",
        "\n",
        "8. **eventregistry**  \n",
        "   Event Registry es una API para obtener noticias y eventos de todo el mundo. El módulo `eventregistry` permite interactuar con esta API.\n",
        "\n",
        "9. **reportlab**  \n",
        "El módulo/librería ReportLab es una poderosa herramienta de generación de documentos PDF.\n"
      ],
      "metadata": {
        "id": "i_FLQuiJ8UxE"
      }
    },
    {
      "cell_type": "code",
      "source": [
        "!pip install requests bs4 datetime PyPDF2 python-docx selenium groq eventregistry reportlab"
      ],
      "metadata": {
        "id": "f-zJd_HW8yZ2",
        "collapsed": true
      },
      "execution_count": null,
      "outputs": []
    },
    {
      "cell_type": "code",
      "source": [
        "from selenium import webdriver\n",
        "from selenium.webdriver.common.by import By\n",
        "from selenium.webdriver.common.keys import Keys\n",
        "from bs4 import BeautifulSoup\n",
        "import datetime\n",
        "import time\n",
        "import os\n",
        "import requests\n",
        "import docx\n",
        "from docx import Document\n",
        "from groq import Groq\n",
        "from eventregistry import *\n",
        "from google.colab import userdata\n",
        "import subprocess\n",
        "\n",
        "from reportlab.lib.pagesizes import letter\n",
        "from reportlab.platypus import SimpleDocTemplate, Paragraph\n",
        "from reportlab.lib.styles import getSampleStyleSheet\n",
        "from PyPDF2 import PdfReader, PdfWriter\n",
        "import io"
      ],
      "metadata": {
        "id": "yC2ywjMJjfhA"
      },
      "execution_count": null,
      "outputs": []
    },
    {
      "cell_type": "markdown",
      "source": [
        "## Módulos empleados para el sistema RAG\n",
        "\n",
        "1. **langchain**  \n",
        "   Facilita la creación de aplicaciones que integran modelos de lenguaje con diferentes fuentes de datos.\n",
        "\n",
        "2. **chromadb**  \n",
        "   Base de datos optimizada para el almacenamiento y recuperación de grandes cantidades de datos.\n",
        "\n",
        "3. **transformers**  \n",
        "   Proporciona acceso a modelos de transformación (BERT, GPT, etc.) para tareas de PLN.\n",
        "\n",
        "4. **langchain-community**  \n",
        "   Extensión de `langchain` con integraciones y mejoras desarrolladas por la comunidad.\n",
        "\n",
        "5. **pypdf**  \n",
        "   Permite manipular y extraer texto de documentos PDF.\n",
        "\n",
        "6. **sentence-transformers**  \n",
        "   Facilita la creación de modelos de transformación de oraciones para comparación semántica."
      ],
      "metadata": {
        "id": "eccVBvwDsj7C"
      }
    },
    {
      "cell_type": "code",
      "source": [
        "!pip install langchain==0.0.324 chromadb==0.4.15 transformers langchain-community pypdf==3.16.4 sentence-transformers==2.2.2"
      ],
      "metadata": {
        "collapsed": true,
        "id": "2HRt3wNIR3Y5"
      },
      "execution_count": null,
      "outputs": []
    },
    {
      "cell_type": "code",
      "source": [
        "import tempfile\n",
        "import chromadb\n",
        "from langchain.text_splitter import RecursiveCharacterTextSplitter\n",
        "from langchain.document_loaders import PyPDFLoader\n",
        "from langchain.vectorstores import Chroma\n",
        "from langchain.embeddings import HuggingFaceEmbeddings\n",
        "from transformers import AutoModel\n",
        "from chromadb.utils import embedding_functions"
      ],
      "metadata": {
        "id": "0wXrFDjPSMM1"
      },
      "execution_count": null,
      "outputs": []
    },
    {
      "cell_type": "markdown",
      "source": [
        "\n",
        "## Configuración del navegador\n",
        "\n",
        "El siguiente código está escrito en un bloque de shell y se utiliza para configurar un sistema Debian para instalar `chromium` y `chromium-driver` desde los repositorios de Debian. Es el mismo código empleado en las sesiones del curso.\n",
        "\n"
      ],
      "metadata": {
        "id": "pCguRMJ591FU"
      }
    },
    {
      "cell_type": "code",
      "source": [
        "%%shell\n",
        "# Añadimos el buscador Debian\n",
        "cat > /etc/apt/sources.list.d/debian.list <<'EOF'\n",
        "deb [arch=amd64 signed-by=/usr/share/keyrings/debian-buster.gpg] http://deb.debian.org/debian buster main\n",
        "deb [arch=amd64 signed-by=/usr/share/keyrings/debian-buster-updates.gpg] http://deb.debian.org/debian buster-updates main\n",
        "deb [arch=amd64 signed-by=/usr/share/keyrings/debian-security-buster.gpg] http://deb.debian.org/debian-security buster/updates main\n",
        "EOF\n",
        "\n",
        "# Añadimos y almacenamos las claves necesarias\n",
        "apt-key adv --keyserver keyserver.ubuntu.com --recv-keys DCC9EFBF77E11517\n",
        "apt-key adv --keyserver keyserver.ubuntu.com --recv-keys 648ACFD622F3D138\n",
        "apt-key adv --keyserver keyserver.ubuntu.com --recv-keys 112695A0E562B32A\n",
        "\n",
        "apt-key export 77E11517 | gpg --dearmour -o /usr/share/keyrings/debian-buster.gpg\n",
        "apt-key export 22F3D138 | gpg --dearmour -o /usr/share/keyrings/debian-buster-updates.gpg\n",
        "apt-key export E562B32A | gpg --dearmour -o /usr/share/keyrings/debian-security-buster.gpg\n",
        "\n",
        "# Fijamos la APT para conseguir el paquete chromium\n",
        "cat > /etc/apt/preferences.d/chromium.pref << 'EOF'\n",
        "Package: *\n",
        "Pin: release a=eoan\n",
        "Pin-Priority: 500\n",
        "\n",
        "\n",
        "Package: *\n",
        "Pin: origin \"deb.debian.org\"\n",
        "Pin-Priority: 300\n",
        "\n",
        "\n",
        "Package: chromium*\n",
        "Pin: origin \"deb.debian.org\"\n",
        "Pin-Priority: 700\n",
        "EOF\n",
        "\n",
        "# Instalamos chromium y chromium-driver\n",
        "apt-get update\n",
        "apt-get install chromium chromium-driver"
      ],
      "metadata": {
        "id": "BPD_H8ShxYiU",
        "collapsed": true
      },
      "execution_count": null,
      "outputs": []
    },
    {
      "cell_type": "markdown",
      "source": [
        "## Personalización del navegador\n",
        "\n",
        "Los argumentos de la configuración son:\n",
        "\n",
        "\n",
        "*   `--headless`: Este argumento permite ejecutar Chrome en modo \"headless\", lo que significa que el navegador se ejecutará sin una interfaz gráfica. Es útil para entornos de servidor donde no se requiere una interfaz de usuario.\n",
        "\n",
        "*   `--no-sandbox`: Desactiva el modo sandbox de Chrome. Esta opción es necesaria en algunos entornos de contenedores y virtualización donde el sandboxing puede causar problemas.\n",
        "\n",
        "\n",
        "*   `--disable-dev-shm-usage`: Este argumento deshabilita el uso compartido de memoria /dev/shm, lo que puede ser necesario en sistemas con poca memoria compartida disponible.\n",
        "\n",
        "\n",
        "\n",
        "\n",
        "\n",
        "\n",
        "\n"
      ],
      "metadata": {
        "id": "YMPP7laKPiyJ"
      }
    },
    {
      "cell_type": "code",
      "source": [
        "# Importamos el módulo webdriver\n",
        "from selenium import webdriver\n",
        "# Importamos la función Service\n",
        "from selenium.webdriver.chrome.service import Service\n",
        "\n",
        "# Indicamos el servicio (navegador) que vamos a utilizar\n",
        "servicio = Service(executable_path=r'/usr/bin/chromedriver')\n",
        "\n",
        "# Variable que almacena la configuración de nuestro navegador\n",
        "opciones = webdriver.ChromeOptions()\n",
        "# Añadimos argumentos para modificar nuestro navegador\n",
        "opciones.add_argument(\"--headless\")\n",
        "opciones.add_argument(\"--no-sandbox\")\n",
        "opciones.add_argument('--disable-dev-shm-usage')\n",
        "\n",
        "# Variable que nos servirá para navegar por Google Chrome\n",
        "navegador = webdriver.Chrome(service=servicio, options=opciones)"
      ],
      "metadata": {
        "id": "5xRT9JdB9bOi"
      },
      "execution_count": null,
      "outputs": []
    },
    {
      "cell_type": "markdown",
      "source": [
        "## Groq\n",
        "\n",
        "Groq es la empresa de infraestructura de IA que construye la tecnología de inferencia de IA más rápida del mundo.\n",
        "\n",
        "En la misma página se encuentra toda la documentación de la api y su implementación en python.\n",
        "\n",
        "Permite utilizar los mejores modelos open source hasta la fecha: Llama 70b y Mixtral 8x7b, o algunos más normales como Llama 8b o gemma 7b de forma totalmente gratuita.\n",
        "\n",
        "Para cada modelo existen unos límites, los cuales son bastantes generosos:\n",
        "\n",
        "![limites groq.png](data:image/png;base64,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)\n",
        "\n",
        "\n",
        "\n",
        " Además la velocidad de escritura es vertiginosa con velocidades de hasta 250 tokens por segundo.\n",
        "\n",
        "Una vez introducido qué es Groq, procedemos a definir unos 'asistentes', modelos que facilitarán la creación del codigo.\n",
        "\n",
        "En este caso se ha definido un generador de resumenes, un clasificador y un corrector, que servirán para adaptar la información de entrada y de salida."
      ],
      "metadata": {
        "id": "GKVvmr9QEKms"
      }
    },
    {
      "cell_type": "code",
      "source": [
        "os.environ['GROQ_API_KEY'] = userdata.get('GROQ_API_KEY')\n",
        "\n",
        "client = Groq(\n",
        "    api_key=os.environ.get(\"GROQ_API_KEY\"),\n",
        ")\n",
        "\n",
        "assert os.environ.get('GROQ_API_KEY') is not None, \"La variable de entorno GROQ_API_KEY no está establecida\"\n",
        "\n",
        "#### GENERADOR DE RESUMENES\n",
        "\n",
        "def obtener_resumen(client, json):\n",
        "    chat_completion = client.chat.completions.create(\n",
        "        messages=[\n",
        "            {\n",
        "                \"role\": \"system\",\n",
        "                \"content\": \"\"\"\n",
        "                Asistente de Resumen de Noticias\n",
        "\n",
        "Este asistente está diseñado para proporcionarte un resumen conciso de las noticias más relevantes del momento. Analizará las noticias disponibles y seleccionará las más destacadas para ti.\n",
        "\n",
        "Instrucciones para el Asistente:\n",
        "\n",
        "Analiza las noticias disponibles.\n",
        "Selecciona las noticias más relevantes.\n",
        "Transforma la informacion proporcionada en un resumen en castellano redactado de la información introducida, puedes añadir listas y apartados. Deberás indicar para cada noticia la fecha de publicación y el autor.\n",
        "Unifica la redacción de las noticias, la redacción deberá contener las noticias más relevantes al principio. Proporciona el texto en formato rmarkdown, estilizando los encabezados y las listas.\n",
        "Debes proporcionar un resumen de la información proporcionada en el json.\n",
        "\n",
        "Estructura del JSON:\n",
        "\n",
        "[\n",
        "  {\n",
        "    \"title\": \"Título de la Noticia\",\n",
        "    \"url\": \"URL de la Noticia\",\n",
        "    \"time_published\": \"Fecha y Hora de Publicación\",\n",
        "    \"authors\": [\"Autor(es)\"],\n",
        "    \"summary\": \"Resumen de la Noticia\"\n",
        "  },\n",
        "  ...\n",
        "]\n",
        "Ejemplo:\n",
        "\n",
        "\n",
        "[\n",
        "  {\n",
        "    \"title\": \"What Percentage Of Stock Trades Are Made By Bots And Algorithms?\",\n",
        "    \"url\": \"https://www.benzinga.com/general/topics/23/06/32861724/what-percentage-of-stock-trades-are-made-by-bots-and-algorithms\",\n",
        "    \"time_published\": \"14/06/2023 18:19:28\",\n",
        "    \"authors\": [\"AJ Fabino\"],\n",
        "    \"summary\": \"This year's market story has been artificial intelligence, illustrated by the recent rush into tech stocks and investor interest in any company working on, or with AI and generative AI.\"\n",
        "  },\n",
        "  ...\n",
        "]\n",
        "                \"\"\"\n",
        "            },\n",
        "            {\n",
        "                \"role\": \"user\",\n",
        "                \"content\": f\"{json}\"\n",
        "            }\n",
        "        ],\n",
        "        model=\"llama3-70b-8192\",\n",
        "    )\n",
        "\n",
        "    return chat_completion.choices[0].message.content\n",
        "\n",
        "#### CLASIFICADOR DE PETICIONES\n",
        "\n",
        "def clasificador(client,peticion):\n",
        "    chat_completion = client.chat.completions.create(\n",
        "        messages=[\n",
        "            {\n",
        "                \"role\": \"system\",\n",
        "                \"content\": \"\"\"\n",
        "                Eres un robot que clasifica peticiones. Deberás extraer las palabras clave de la petición y devolver una lista con las palabras clave que hayas obtenido.\n",
        "                Tan solo deberás devolver la lista. Como un robot, no digas nada más.\n",
        "                Instrucciones:\n",
        "                - La lista NO lleva ni corchetes ni paréntesis al principio ni al final. Serán palabras separadas por comas.\n",
        "                - Las palabras de la lista tienen que estar directamente relacionadas con lo que se pide en la petición.\n",
        "                - En ningún caso proporcionarás frases, ni palabras que estén fuera de contexto.\n",
        "                - Las respuestas deben ser ultra precisas.\n",
        "                \"\"\"\n",
        "            },\n",
        "            {\n",
        "                \"role\": \"user\",\n",
        "                \"content\": f\"{peticion}\"\n",
        "            }\n",
        "        ],\n",
        "        model=\"llama3-70b-8192\",\n",
        "        temperature = 1,\n",
        "    )\n",
        "\n",
        "    return chat_completion.choices[0].message.content\n",
        "\n",
        "#### CORRECTOR DE TEXTOS:\n",
        "\n",
        "def corrector(client,peticion):\n",
        "    chat_completion = client.chat.completions.create(\n",
        "        messages=[\n",
        "            {\n",
        "                \"role\": \"system\",\n",
        "                \"content\": \"\"\"\n",
        "                Eres un corrector experto en todos los idiomas. Tu tarea consiste en corregir y mejorar la redacción de cualquier texto que se te proporcione. Además deberás traducir todos los textos que se te proporcionen, al español.\n",
        "                Debes proporcionar correcciones de la más alta fiabilidad y calidad.\n",
        "                SOLO PROPORCIONA LA CORRECCIÓN. NO INCLUYAS NINGUNA INFORMACIÓN ADICIONAL O COMENTARIOS. RESPONDE ÚNICAMENTE CON EL TEXTO CORREGIDO EN ESPAÑOL.\n",
        "                \"\"\"\n",
        "            },\n",
        "            {\n",
        "                \"role\": \"user\",\n",
        "                \"content\": f\"{peticion}\"\n",
        "            }\n",
        "        ],\n",
        "        model=\"llama3-8b-8192\", # como deberá corregir bastante texto, se utiliza el modelo que más tokens por minuto tiene.\n",
        "        temperature = 1,\n",
        "    )\n",
        "    return chat_completion.choices[0].message.content\n",
        "\n",
        "\n",
        "\n"
      ],
      "metadata": {
        "id": "UdOs_w1jt73m"
      },
      "execution_count": null,
      "outputs": []
    },
    {
      "cell_type": "markdown",
      "source": [
        "# Obtención de información mediante web scraping.\n",
        "\n",
        "La parte de obtención de información comienza aquí. Estas son las primeras funciones que nos servirán para extraer el contenido de las páginas.\n",
        "\n",
        "Se han creado dos funciones: obtener_pdf() y obtener_contenido_docx(). Que como indican sus nombres son funciones para obtener pdf y obtener el contenido de la página en un documento docx.\n",
        "\n",
        "Hay mejores formas de obtener información que con el web scraping, como es la uso de apis. En este caso la obtención mediante api se definirá más adelante. De todas formas hay que leerse bien los términos de política y privacidad de la web que se está scrapeando para no cometer ninguna infracción legal.\n",
        "\n",
        "En este caso, el reto del proyecto es obtener información de cualquier sitio web y como es de esperar no podré leerme todos los términos de política y privacidad, así que he optado por utilizar el código solo para este proyecto, sin publicar nada ni beneficiarme de terceros. Para minimizar riesgos más que nada."
      ],
      "metadata": {
        "id": "9NhXydAvTJ-7"
      }
    },
    {
      "cell_type": "markdown",
      "source": [
        "## Explicación de la función `obtener_pdf`\n",
        "\n",
        "La función `obtener_pdf` busca y descarga archivos PDF desde una página web. A continuación se explica su funcionamiento:\n",
        "\n",
        "### Parámetros\n",
        "\n",
        "- **soup**: Es un objeto de BeautifulSoup que contiene el contenido HTML de una página web. Se utiliza para buscar elementos dentro de la página.\n",
        "- **i**: Un índice que se utiliza para numerar los archivos PDF descargados, ayudando a evitar nombres de archivo duplicados.\n",
        "- **lista_pdf**: Una lista de palabras clave. La función verifica que al menos una de estas palabras esté presente en los enlaces antes de descargar el archivo PDF.\n",
        "\n",
        "### Funcionamiento\n",
        "\n",
        "1. **Buscar enlaces PDF**: La función utiliza `soup` para encontrar todos los elementos `<a>` con el atributo `href`.\n",
        "\n",
        "2. **Verificar enlaces**: Para cada enlace encontrado, se obtiene el valor del atributo `href` y se comprueba si contiene alguna de las palabras clave de `lista_pdf` y si el enlace termina con `.pdf`.\n",
        "\n",
        "3. **Descargar el PDF**: Si un enlace cumple con los criterios, se realiza una solicitud HTTP para descargar el archivo PDF. Luego, el archivo se guarda en una ubicación específica definiendo el nombre como la búsqueda que se ha realizado y el índice `i`.\n",
        "\n",
        "4. **Guardar el archivo**: El archivo PDF se guarda en la ruta especificada con un nombre único para evitar conflictos.\n",
        "\n",
        "5. **Mensaje de confirmación**: Si se descarga un PDF, se imprime un mensaje confirmando la descarga y la ubicación del archivo. Si no se encuentran enlaces PDF, se imprime un mensaje indicando que no se encontraron archivos PDF para descargar.\n",
        "\n",
        "## Explicación de la función `obtener_contenido_docx`\n",
        "\n",
        "La función `obtener_contenido_docx` extrae y guarda contenido de una página web en un documento DOCX. A continuación, se detalla su funcionamiento:\n",
        "\n",
        "### Parámetros\n",
        "\n",
        "- **soup**: Objeto de BeautifulSoup que contiene el contenido HTML de una página web.\n",
        "- **i**: Índice utilizado para numerar las búsquedas y organizar el contenido.\n",
        "- **enlace**: URL de la página web de donde se extrae el contenido.\n",
        "- **archivo_docx**: Ruta del archivo DOCX donde se guardará el contenido extraído.\n",
        "\n",
        "### Funcionamiento\n",
        "\n",
        "1. **Crear/abrir el documento DOCX**: Se abre el archivo DOCX especificado o se crea uno nuevo si no existe.\n",
        "\n",
        "2. **Agregar encabezado inicial**: Se añade un encabezado con el número de búsqueda y la URL de la página web.\n",
        "\n",
        "3. **Buscar encabezados HTML**: La función busca todos los encabezados (`h1` a `h6`) en el contenido HTML.\n",
        "\n",
        "4. **Obtener y procesar elementos**: Para cada encabezado encontrado, se obtienen todos los elementos siguientes (párrafos y listas) hasta el próximo encabezado de nivel igual o superior:\n",
        "   - **Párrafos**: Si el párrafo tiene más de 100 caracteres, se agrega al documento bajo el encabezado correspondiente.\n",
        "   - **Listas**: Si al menos un elemento de la lista tiene más de 100 caracteres, se agrega al documento bajo el encabezado correspondiente. Las listas se formatean como viñetas o listas numeradas según corresponda.\n",
        "\n",
        "5. **Agregar separador**: Se añade una línea de separación (`---`) para delimitar el contenido de diferentes búsquedas.\n",
        "\n",
        "6. **Guardar el documento**: El archivo DOCX se guarda con el contenido extraído.\n",
        "\n",
        "7. **Mensaje de confirmación**: Se imprime un mensaje indicando que el contenido ha sido añadido al archivo DOCX.\n"
      ],
      "metadata": {
        "id": "LeBkkU0PxkN5"
      }
    },
    {
      "cell_type": "code",
      "source": [
        "def obtener_pdf(soup, i, lista_pdf):\n",
        "   enlaces_pdf = soup.find_all(\"a\", href=True)\n",
        "   pdf_encontrado = False\n",
        "   for enlace_pdf in enlaces_pdf:\n",
        "       href = enlace_pdf.get(\"href\")\n",
        "       if any(palabra in href.lower() for palabra in lista_pdf) and href.endswith('.pdf'):\n",
        "           response = requests.get(href)\n",
        "           nombre_archivo = os.path.join(ruta_de_guardado, f\"{busqueda.replace(' ', '_')}_{i+1}.pdf\")\n",
        "           with open(nombre_archivo, 'wb') as pdf_file:\n",
        "               pdf_file.write(response.content)\n",
        "           print(f\"PDF de la web '{navegador}' descargado en:\", nombre_archivo)\n",
        "           pdf_encontrado = True\n",
        "   if not pdf_encontrado:\n",
        "       print(\"\\n\\t\\t>> No se encontraron enlaces PDF para descargar.\")\n",
        "\n",
        "\n",
        "def obtener_contenido_docx(soup, i, enlace, archivo_docx):\n",
        "    document = Document(archivo_docx)\n",
        "    document.add_heading(f\"Contenido de la búsqueda {i+1}\\nFuente: {enlace}\\n\", level=1)\n",
        "\n",
        "    for encabezado in soup.find_all([\"h1\", \"h2\", \"h3\", \"h4\", \"h5\", \"h6\"]):\n",
        "        encabezado_texto = encabezado.get_text()\n",
        "        encabezado_agregado = False\n",
        "\n",
        "        # Obtener todos los elementos (párrafos, listas) dentro del encabezado\n",
        "        elementos = encabezado.find_all_next([\"p\", \"ul\", \"ol\"])\n",
        "\n",
        "        for elem in elementos:\n",
        "            if elem.name == \"p\" and len(elem.get_text(strip=True)) > 100:\n",
        "                if not encabezado_agregado:\n",
        "                    document.add_heading(encabezado_texto, level=int(encabezado.name[1])-1)\n",
        "                    encabezado_agregado = True\n",
        "                document.add_paragraph(elem.get_text())\n",
        "            elif elem.name in [\"ul\", \"ol\"]:\n",
        "                lista_texto = \" \".join([li.get_text() for li in elem.find_all(\"li\")])\n",
        "                if any(len(li.get_text(strip=True)) > 100 for li in elem.find_all(\"li\")):\n",
        "                    if not encabezado_agregado:\n",
        "                        document.add_heading(encabezado_texto, level=int(encabezado.name[1])-1)\n",
        "                        encabezado_agregado = True\n",
        "                    for li in elem.find_all(\"li\"):\n",
        "                        if len(li.get_text(strip=True)) > 100:\n",
        "                            document.add_paragraph(li.get_text(), style='ListBullet' if elem.name == \"ul\" else 'ListNumber')\n",
        "\n",
        "    document.add_paragraph(\"---\")  # Separador entre contenidos\n",
        "    document.save(archivo_docx)\n",
        "    print(\"\\n\\t>> Contenido añadido en:\", archivo_docx)\n",
        "\n",
        "\n",
        "\n"
      ],
      "metadata": {
        "id": "dZsxHs_VrEH4"
      },
      "execution_count": null,
      "outputs": []
    },
    {
      "cell_type": "markdown",
      "source": [
        "## Drive\n",
        "Ahora definimos el directorio de drive. Este directorio será diferente para cada uno, por lo que es imprescindible que se especifique."
      ],
      "metadata": {
        "id": "WBaapf9ajtW-"
      }
    },
    {
      "cell_type": "code",
      "source": [
        "# primero introducimos una ruta de guardado\n",
        "from google.colab import drive\n",
        "drive.mount('/content/drive')\n",
        "\n",
        "# cambiar en función de cada uno\n",
        "ruta_de_guardado = \"/content/drive/MyDrive/\""
      ],
      "metadata": {
        "id": "ANnhcp9D_Eo0"
      },
      "execution_count": null,
      "outputs": []
    },
    {
      "cell_type": "markdown",
      "source": [
        "## Convertir_docx_a_pdf:\n",
        "\n",
        "Antes de explicar el codigo principal, lo que se hace es crear una función que permita guardar el archivo docx como pdf. Dado que el RAG está configurado para que solo funcione con pdf. La función coge los párrafos del archivo docx y los almacena en un archivo pdf."
      ],
      "metadata": {
        "id": "mbnwDtRjkNyV"
      }
    },
    {
      "cell_type": "code",
      "source": [
        "def convertir_docx_a_pdf(archivo_docx):\n",
        "    # Obtener el nombre del archivo sin la extensión\n",
        "    nombre_archivo, _ = os.path.splitext(archivo_docx)\n",
        "    archivo_pdf = nombre_archivo + \".pdf\"\n",
        "\n",
        "    # Leer el contenido del archivo DOCX\n",
        "    doc = Document(archivo_docx)\n",
        "    content = []\n",
        "    for paragraph in doc.paragraphs:\n",
        "        content.append(paragraph.text)\n",
        "\n",
        "    # Crear un nuevo documento PDF\n",
        "    pdf_document = SimpleDocTemplate(archivo_pdf, pagesize=letter)\n",
        "    styles = getSampleStyleSheet()\n",
        "\n",
        "    # Agregar el contenido del archivo DOCX al PDF\n",
        "    paragraphs = [Paragraph(text, styles[\"Normal\"]) for text in content]\n",
        "    pdf_document.build(paragraphs)\n",
        "\n",
        "    print(\"Archivo PDF creado:\", archivo_pdf)"
      ],
      "metadata": {
        "id": "3A1iGHefJ0ly"
      },
      "execution_count": null,
      "outputs": []
    },
    {
      "cell_type": "markdown",
      "source": [
        "## Codigo principal obtención de información mediante web scraping\n",
        "\n"
      ],
      "metadata": {
        "id": "lFdCas_Zz0bz"
      }
    },
    {
      "cell_type": "markdown",
      "source": [
        "### Explicación `Buscador(peticion, ruta, num_enlaces)`\n",
        "La función `buscador` está diseñada para realizar búsquedas en línea, recopilar información relevante de los enlaces encontrados y organizarla en documentos y archivos PDF.\n",
        "\n",
        "La función `buscador` acepta los siguientes parámetros:\n",
        "\n",
        "- `peticion`: Es la palabra clave de búsqueda o el conjunto de palabras clave que se utilizarán para buscar información en línea.\n",
        "- `ruta_de_guardado`: Es la ruta donde se guardarán los documentos generados (archivos DOCX y PDF).\n",
        "- `num_enlaces`: Especifica el número máximo de enlaces relevantes que se recopilarán y procesarán por cada búsqueda.\n",
        "\n",
        "A continuación se explica su funcionamiento paso a paso:\n",
        "\n",
        "1. **Inicialización de Variables:**\n",
        "   - `buscar`: Una lista que contiene la palabra clave de búsqueda proporcionada en `peticion`. Permite buscar múltiples palabras clave si se modifica el código.\n",
        "   - `nombres_archivo`: Una lista que nombra los archivos de salida basados en la palabra clave de búsqueda.\n",
        "   - `lista_buscar`: Lista que encapsula todas las búsquedas a realizar.\n",
        "   - `lista_pdf`: Lista que inicialmente contiene el resultado de la función `clasificador`, que puede identificar patrones en los títulos de los archivos PDF.\n",
        "\n",
        "2. **Iteración a través de las Búsquedas:**\n",
        "   - Para cada término de búsqueda en `lista_buscar`:\n",
        "     - Se obtiene el año actual para incluirlo en la búsqueda y asegurar que los resultados sean recientes.\n",
        "     - Se define el nombre y la ubicación del archivo de documento Word (`archivo_docx`) donde se almacenará la información recopilada.\n",
        "\n",
        "3. **Creación del Archivo Docx:**\n",
        "   - Si el archivo `archivo_docx` no existe, se crea un nuevo documento vacío utilizando la biblioteca `python-docx`.\n",
        "\n",
        "4. **Inicialización del Navegador Web:**\n",
        "   - Se inicia un navegador Chrome mediante WebDriver, configurado con opciones específicas (`servicio` y `opciones`).\n",
        "\n",
        "5. **Búsqueda en Google:**\n",
        "   - Para cada término de búsqueda (`busqueda`):\n",
        "     - El navegador accede al sitio web de Google.\n",
        "     - Encuentra y borra cualquier contenido previo en la barra de búsqueda.\n",
        "     - Ingresa la palabra clave de búsqueda junto con el año y \"en español\" para obtener resultados actualizados y en español.\n",
        "     - Realiza la búsqueda y espera brevemente para que los resultados se carguen.\n",
        "\n",
        "6. **Obtención de Enlaces Relevantes:**\n",
        "   - Se obtienen los enlaces de las páginas web que aparecen en los resultados de búsqueda, filtrando aquellos que comienzan con \"https://\" y excluyendo los enlaces de YouTube.\n",
        "\n",
        "7. **Recopilación de Información:**\n",
        "   - Para cada enlace filtrado:\n",
        "     - Se intenta acceder al enlace y obtener el contenido HTML.\n",
        "     - Si se logra acceder (status code 200), se utiliza BeautifulSoup para analizar el contenido y encontrar el cuerpo (`<body>`) de la página.\n",
        "     - Se llama a las funciones `obtener_contenido_docx` y `obtener_pdf` para procesar y guardar la información relevante en el documento Word y en la lista de archivos PDF respectivamente.\n",
        "\n",
        "8. **Generación de Archivos PDF:**\n",
        "   - Después de recopilar la información de todos los enlaces relevantes para una búsqueda específica, se convierte el documento Word (`archivo_docx`) en un archivo PDF usando `convertir_docx_a_pdf`.\n",
        "\n",
        "9. **Cierre del Navegador:**\n",
        "   - Finalmente, se cierra el navegador Chrome.\n",
        "\n",
        "Este proceso se repite para cada término de búsqueda en `lista_buscar`, lo que permite recopilar información estructurada y organizada en documentos y archivos PDF para cada búsqueda realizada.\n"
      ],
      "metadata": {
        "id": "5FPOZasRZs5t"
      }
    },
    {
      "cell_type": "code",
      "source": [
        "def buscador(peticion, ruta_de_guardado, num_enlaces):\n",
        "\n",
        "  # se utilizan listas por si se quiere modificar el codigo y buscar varias cosas al mismo tiempo. El codigo itera la lista de busqueda y crea archivos para cada una.\n",
        "  buscar = [f\"{peticion}\"]\n",
        "  nombres_archivo=[f\"{peticion}\"]\n",
        "  lista_buscar=[buscar]\n",
        "  lista_pdf=[clasificador(client,peticion)] # en caso de conocer el patrón de los títulos de los pdf, se puede introducir manualmente.\n",
        "\n",
        "\n",
        "  for j,buscar in enumerate(lista_buscar):\n",
        "    fecha_actual = datetime.datetime.now()\n",
        "    año = fecha_actual.year\n",
        "\n",
        "    archivo_docx = os.path.join(ruta_de_guardado, buscar[j] + \".docx\") # el archivo se nombrará por la búsqueda. En caso de que ya exista, se añadirá el contenido de la nueva busqueda al documento.\n",
        "\n",
        "    if not os.path.exists(archivo_docx):\n",
        "        document = Document()\n",
        "        document.save(archivo_docx)\n",
        "\n",
        "    navegador = webdriver.Chrome(service=servicio, options=opciones)\n",
        "\n",
        "    for busqueda in buscar:\n",
        "\n",
        "      print(\"\\n-> Buscando:\",busqueda,\"...\")\n",
        "      navegador.get(\"http://www.google.com\") # nos situamos en el buscador de google\n",
        "      buscador = navegador.find_element(By.NAME, \"q\") # encontramos la barra de navegación\n",
        "      buscador.clear() # borramos lo que esté escrito de antes\n",
        "\n",
        "      buscador.send_keys(busqueda + f\" {año} en español\") # se añade el año y 'en español' para que los resultados sean actualizados y en español para facilitar la tarea al corrector. Aunque no siempre funciona.\n",
        "      buscador.send_keys(Keys.ENTER) # buscamos\n",
        "\n",
        "      time.sleep(2)\n",
        "\n",
        "      enlaces = navegador.find_elements(By.XPATH, value=\"//a[@jsname='UWckNb']\") # encontramos todos los enlaces de las páginas\n",
        "      enlaces = [enlace.get_attribute(\"href\") for enlace in enlaces if enlace.get_attribute(\"href\") and enlace.get_attribute(\"href\").startswith(\"https://\") and 'youtube' not in enlace.get_attribute(\"href\")] # filtramos los enlaces que nos interesan\n",
        "      enlaces_filtrados = enlaces[:num_enlaces] # buscamos en los n primeros enlaces, modificar a las necesidades de cada uno\n",
        "\n",
        "      # se iteran las paginas recopilando la información\n",
        "      for i, enlace in enumerate(enlaces_filtrados):\n",
        "        try:\n",
        "          response = requests.get(enlace)\n",
        "\n",
        "          if response.status_code != 200:\n",
        "            print(f\"\\n\\t>> Error al acceder al enlace: {enlace} - Status code: {response.status_code}\")\n",
        "            continue\n",
        "\n",
        "          html = response.content\n",
        "          soup = BeautifulSoup(html, 'html.parser').find('body')\n",
        "          obtener_contenido_docx(soup,i,enlace,archivo_docx)\n",
        "          obtener_pdf(soup,i,lista_pdf)\n",
        "        except Exception as e:\n",
        "          print(f\"\\n\\t>> No se pudo procesar el enlace: {e}\")\n",
        "      convertir_docx_a_pdf(archivo_docx) # finalmente se genera un pdf a partir del documento word.\n",
        "    navegador.quit()\n"
      ],
      "metadata": {
        "id": "HXQJzME6DzcN"
      },
      "execution_count": null,
      "outputs": []
    },
    {
      "cell_type": "markdown",
      "source": [
        "Ejemplo de uso:\n",
        "\n",
        "NOTA: El tiempo de ejecución depende de la hora y la saturación de la web que se está scrapeando."
      ],
      "metadata": {
        "id": "lBzAYAluYVZT"
      }
    },
    {
      "cell_type": "code",
      "source": [
        "buscador(\"Qué son los odds ratios?\", ruta_de_guardado, num_enlaces = 3)"
      ],
      "metadata": {
        "id": "ViQ7L7zwYTiy"
      },
      "execution_count": null,
      "outputs": []
    },
    {
      "cell_type": "markdown",
      "source": [
        "## Obtención de información mediante API.\n",
        "\n",
        "Como se ha comentado anteriormente, aquí se definirá la obtención mediante api, método que se priorizará a la hora de la obtención de información.\n",
        "\n",
        "Lo primero que se hará será definir una función que permita crear un documento \".docx\" a partir del json de la api.\n",
        "\n",
        "En segundo lugar se genará un resumen en formato docx con la información. Información que se obtiene a partir del asistente de resúmenes.\n",
        "\n",
        "Al asistente que genera los resumenes se le ha instruído para que proporcione los resumenes en formato rmd para que después sea más fácil filtrar las listas y los encabezados a la hora de estilizarlos."
      ],
      "metadata": {
        "id": "qtOn_yPOWToH"
      }
    },
    {
      "cell_type": "code",
      "source": [
        "def crear_documento_pdf(texto_rmd, nombre_archivo):\n",
        "    # Inicializar el documento PDF\n",
        "    pdf_document = SimpleDocTemplate(nombre_archivo, pagesize=letter)\n",
        "    styles = getSampleStyleSheet()\n",
        "\n",
        "    # Dividir el texto en líneas\n",
        "    lineas = texto_rmd.split('\\n')\n",
        "\n",
        "    # Lista para almacenar todos los elementos del documento\n",
        "    content = []\n",
        "\n",
        "    for linea in lineas:\n",
        "        # Si la línea comienza con '#', se trata de un encabezado\n",
        "        if linea.startswith('#'):\n",
        "            nivel_encabezado = linea.count('#')\n",
        "            texto_encabezado = linea.strip('#').strip()\n",
        "            content.append(Paragraph(texto_encabezado, styles['Heading%d' % nivel_encabezado]))\n",
        "\n",
        "        # Si la línea comienza con '-' o '*', se trata de un elemento de lista\n",
        "        elif linea.startswith('-') or linea.startswith('*'):\n",
        "            content.append(Paragraph(linea.strip('-*').strip(), styles['Bullet']))\n",
        "\n",
        "        # Si la línea no comienza con '#', '-' ni '*', se trata de texto normal\n",
        "        else:\n",
        "            content.append(Paragraph(linea, styles['Normal']))\n",
        "\n",
        "    # Construir el documento PDF\n",
        "    pdf_document.build(content)\n",
        "\n",
        "    print(\"\\n\\t>> Archivo PDF creado:\", nombre_archivo)\n"
      ],
      "metadata": {
        "id": "HbAIdXD5BKlK"
      },
      "execution_count": null,
      "outputs": []
    },
    {
      "cell_type": "markdown",
      "source": [
        "#### API\n",
        "Se ha decidido utilizar una api de noticias para el proyecto. Esta api proporciona una lista de json donde las claves son los elementos de los artículos.\n",
        "\n",
        "Además, para esta función hay que introducir una peticion y automáticamente se genera el resultado en función de lo deseado. Se obtendrá el título, la url, la fecha de publicación, los autores, un resumen y la relevancia, para los 5 primeros artículos."
      ],
      "metadata": {
        "id": "4zuE_pVnaaif"
      }
    },
    {
      "cell_type": "code",
      "source": [
        "# Inicializar el objeto EventRegistry con la clave API\n",
        "er = EventRegistry(apiKey=userdata.get('NEWSAI_API'), allowUseOfArchive=False)\n",
        "\n",
        "def noticias(peticion):\n",
        "  palabras_clave = clasificador(client, peticion) # se clasifica la petición por palabras clave para la consulta a la api. No admite consultas solo palabras.\n",
        "      # Crear la consulta con los parámetros deseados\n",
        "  q = QueryArticlesIter(\n",
        "      keywords=[palabras_clave],  # Palabras clave para la búsqueda\n",
        "      dataType=[\"news\"],\n",
        "      lang=[\"spa\"],\n",
        "      startSourceRankPercentile=70\n",
        "\n",
        "  )\n",
        "\n",
        "  # Lista para almacenar la información extraída de cada artículo\n",
        "  extracted_info_noticias = []\n",
        "  maxItems=10 # número máximo de artículos\n",
        "  for article in q.execQuery(er, sortBy=\"date\", maxItems=maxItems, startSourceRankPercentile=70):\n",
        "      for i in range(maxItems):\n",
        "        info = {\n",
        "            'title': article.get('title'),\n",
        "            'url': article.get('url'),\n",
        "            'time_published': article.get('date'),\n",
        "            'authors': article.get('author', {}).get('name', 'Unknown'),  # Obtener el nombre del autor, si está disponible\n",
        "            'summary': article.get('body', '')[:150],  # Muestra solo los primeros 150 caracteres del cuerpo. El asistente deberá resumir todo el texto por lo que cuanto menos artículos más texto podremos obtener.\n",
        "            'relevancia': article.get('relevance', 'Unknown')  # Obtener la relevancia, si está disponible\n",
        "        }\n",
        "        extracted_info_noticias.append(info)\n",
        "\n",
        "  return extracted_info_noticias\n",
        "\n"
      ],
      "metadata": {
        "id": "lxZwu3DM5x6V"
      },
      "execution_count": null,
      "outputs": []
    },
    {
      "cell_type": "markdown",
      "source": [
        "Ejemplo de uso:\n",
        "\n",
        "(A veces se atasca, tener paciencia y volver a ejecutar)"
      ],
      "metadata": {
        "id": "k0NL_1WhdGgU"
      }
    },
    {
      "cell_type": "code",
      "source": [
        "obtener_resumen(client,noticias(\"Noticias España\"))"
      ],
      "metadata": {
        "id": "-IWwlzfwdF-v"
      },
      "execution_count": null,
      "outputs": []
    },
    {
      "cell_type": "markdown",
      "source": [
        "Finalmente se unen los dos métodos de extracción, priorizando la api. En caso de que no se halle información relevante en la api, el usuario deberá decidir si obtener la información mediante web scraping.\n",
        "\n",
        "Aviso: los resultados variarán en función de la página en la que se esté buscando."
      ],
      "metadata": {
        "id": "-XCJqqDScQM8"
      }
    },
    {
      "cell_type": "code",
      "source": [
        "def asistente(peticion, ruta_de_guardado):\n",
        "    print('-> Procesando peticion...')\n",
        "\n",
        "    print('\\n-> Buscando en api...')\n",
        "    if not os.path.exists(ruta_de_guardado):\n",
        "        os.makedirs(ruta_de_guardado)\n",
        "        print(f\"Ruta de guardado creada: {ruta_de_guardado}\")\n",
        "\n",
        "    contenido_api=noticias(peticion)\n",
        "    if contenido_api:\n",
        "      print('\\n\\t>> Obteniendo información...')\n",
        "      archivo_pdf=None\n",
        "      archivo_pdf = os.path.join(ruta_de_guardado, f\"{peticion}\" + \".pdf\")\n",
        "      contenido = obtener_resumen(client, contenido_api)\n",
        "      print('\\n\\t>> Creando archivo...')\n",
        "      crear_documento_pdf(contenido, archivo_pdf)\n",
        "    else:\n",
        "      archivo_docx=None\n",
        "      respuesta = int(input(\"\\nAviso: No se ha encontrado nada vía api.¿Desea continuar la búsqueda mediante web-scraping? (1:Sí o 2:No): \"))\n",
        "      if respuesta==1:\n",
        "        print(f\"\\nSe procede a buscar mediante web-scraping.\")\n",
        "        buscador(peticion, ruta_de_guardado,3)\n",
        "\n",
        "    return print(\"\\nProceso completado\")\n"
      ],
      "metadata": {
        "id": "yCWycRoprbZr"
      },
      "execution_count": null,
      "outputs": []
    },
    {
      "cell_type": "markdown",
      "source": [
        "## Resultado del asistente\n",
        "\n",
        "El tiempo de espera puede variar en función de la cantidad de texto y de la hora.\n",
        "\n",
        "Como es de esperar, la api proporcionará resultados cuando la consulta esté relacionada con las noticias."
      ],
      "metadata": {
        "id": "V3mghZMldzfL"
      }
    },
    {
      "cell_type": "code",
      "source": [
        "asistente(\"fichaje Mbappé\",ruta_de_guardado)"
      ],
      "metadata": {
        "id": "89-m4IARwZpd"
      },
      "execution_count": null,
      "outputs": []
    },
    {
      "cell_type": "markdown",
      "source": [
        "Y mediante api se obtiene:"
      ],
      "metadata": {
        "id": "cbmIB-WM-HW4"
      }
    },
    {
      "cell_type": "code",
      "source": [
        "asistente(\"Novedades modelos llm open source\", ruta_de_guardado)"
      ],
      "metadata": {
        "id": "463vNKtz9Peh"
      },
      "execution_count": null,
      "outputs": []
    },
    {
      "cell_type": "markdown",
      "source": [
        "# Sistema RAG"
      ],
      "metadata": {
        "id": "tNDG848rwE8U"
      }
    },
    {
      "cell_type": "markdown",
      "source": [
        "Finalmente aquí está la creación del RAG. No es ultra preciso pero si que sirve para muchos casos, además es bastante rápido haciendo los embeddings."
      ],
      "metadata": {
        "id": "2A7ll_5geSCj"
      }
    },
    {
      "cell_type": "markdown",
      "source": [
        "### Descripción de Funciones\n",
        "\n",
        "Este código ha sido adaptado de un código que he encontrado en github.\n",
        "\n",
        "La fuente es la siguiente: https://github.com/NechuBM/ChatChromaDB/blob/main/ChromaDB.ipynb\n",
        "\n",
        "#### `setup_chroma_client`\n",
        "Configura el cliente de ChromaDB para su uso en el sistema.\n",
        "\n",
        "#### `save_name_files`\n",
        "Guarda los nombres de nuevos archivos PDF en una lista, asegurándose de no duplicar entradas.\n",
        "\n",
        "#### `load_name_files`\n",
        "Carga la lista de nombres de archivos PDF previamente guardados.\n",
        "\n",
        "#### `clean_files`\n",
        "Limpia la lista de nombres de archivos y reinicia la colección en ChromaDB, eliminando cualquier dato anterior.\n",
        "\n",
        "#### `text_to_chromadb`\n",
        "Convierte el contenido de un archivo PDF en texto y lo guarda en ChromaDB como vectores para su posterior recuperación.\n",
        "\n",
        "#### `create_embeddings`\n",
        "Crea vectores de los fragmentos de texto extraídos de los PDFs, utilizando un modelo de embeddings. Estos vectores se almacenan en ChromaDB.\n",
        "\n",
        "#### `ChatRag`\n",
        "Interfaz principal del sistema. Permite a los usuarios realizar preguntas, buscar respuestas en los textos almacenados y limpiar el sistema cuando sea necesario.\n",
        "\n",
        "#### `main`\n",
        "Configura el sistema, muestra los archivos PDF disponibles, permite al usuario seleccionar un archivo y procesa el archivo seleccionado para su almacenamiento en ChromaDB.\n",
        "\n",
        "### Flujo General\n",
        "\n",
        "1. **Configuración Inicial**: El sistema se configura cambiando el directorio de trabajo y configurando ChromaDB.\n",
        "2. **Carga de Archivos**: Se muestran los archivos PDF disponibles al usuario.\n",
        "3. **Selección y Procesamiento**: El usuario selecciona un archivo, que se procesa y almacena en ChromaDB.\n",
        "4. **Interacción con el Usuario**: Los usuarios pueden hacer preguntas y el sistema busca respuestas en los textos almacenados, devolviendo la información relevante.\n",
        "5. **Mantenimiento**: Funciones para limpiar archivos y reiniciar la colección cuando sea necesario."
      ],
      "metadata": {
        "id": "j0tMX2zu3v5O"
      }
    },
    {
      "cell_type": "code",
      "source": [
        "os.chdir(\"/content/drive/MyDrive/\")\n",
        "FILE_LIST = \"archivos.txt\"\n",
        "INDEX_NAME = 'Automatizacion_IA4LEGOS'\n",
        "chroma_client = chromadb.Client()\n",
        "collection = chroma_client.get_or_create_collection(name=INDEX_NAME)\n",
        "\n",
        "\n",
        "def setup_chroma_client():\n",
        "    global chroma_client\n",
        "    chroma_client = chromadb.Client()\n",
        "\n",
        "def save_name_files(path, new_files):\n",
        "    old_files = load_name_files(path)\n",
        "    with open(path, \"a\") as file:\n",
        "        for item in new_files:\n",
        "            if item not in old_files:\n",
        "                file.write(item + \"\\n\")\n",
        "                old_files.append(item)\n",
        "    return old_files\n",
        "\n",
        "def load_name_files(path):\n",
        "    archivos = []\n",
        "    with open(path, \"r\") as file:\n",
        "        for line in file:\n",
        "            archivos.append(line.strip())\n",
        "    return archivos\n",
        "\n",
        "def clean_files(path):\n",
        "    with open(path, \"w\") as file:\n",
        "        pass\n",
        "    chroma_client.delete_collection(name=INDEX_NAME)\n",
        "    collection = chroma_client.create_collection(name=INDEX_NAME)\n",
        "    return True\n",
        "\n",
        "def text_to_chromadb(pdf, file_name):\n",
        "    temp_dir = tempfile.TemporaryDirectory()\n",
        "    temp_filepath = os.path.join(temp_dir.name, file_name)\n",
        "    with open(temp_filepath, \"wb\") as f:\n",
        "        f.write(pdf)\n",
        "    loader = PyPDFLoader(temp_filepath)\n",
        "    text = loader.load()\n",
        "    create_embeddings(file_name, text)\n",
        "    return True\n",
        "\n",
        "def create_embeddings(file_name, text):\n",
        "    print(f\"Cargando archivo: {file_name}\")\n",
        "    text_splitter = RecursiveCharacterTextSplitter(\n",
        "        chunk_size=700,\n",
        "        chunk_overlap=70,\n",
        "    )\n",
        "    chunks = text_splitter.split_documents(text)\n",
        "    embeddings = HuggingFaceEmbeddings(\n",
        "        model_name=\"sentence-transformers/paraphrase-multilingual-MiniLM-L12-v2\"\n",
        "    )\n",
        "    Chroma.from_documents(\n",
        "        chunks,\n",
        "        embeddings,\n",
        "        client=chroma_client,\n",
        "        collection_name=INDEX_NAME\n",
        "    )\n",
        "    return True\n",
        "\n",
        "\n",
        "def ChatRag():\n",
        "    FILE_LIST = \"archivos.txt\"\n",
        "    INDEX_NAME = 'Automatizacion_IA4LEGOS'\n",
        "    collection = chroma_client.get_or_create_collection(name=INDEX_NAME)\n",
        "    client = Groq(\n",
        "        api_key=userdata.get(\"GROQ_API_KEY\"),\n",
        "    )\n",
        "\n",
        "    main()  # Verifica archivos al inicio\n",
        "\n",
        "    while True:\n",
        "        archivos = load_name_files(FILE_LIST)\n",
        "\n",
        "        if archivos:\n",
        "            user_question = str(input(\"Pregunta: \"))\n",
        "            if user_question == \"reset\":\n",
        "              clean_files(FILE_LIST)\n",
        "              chroma_client.delete_collection(INDEX_NAME)\n",
        "              break\n",
        "            elif user_question ==\"stop\":\n",
        "              break\n",
        "            else:\n",
        "\n",
        "              if user_question:\n",
        "                  results = collection.query(\n",
        "                      query_texts=user_question,  # Chroma will embed this for you\n",
        "                      n_results=10  # how many results to return\n",
        "                  )\n",
        "\n",
        "                  contexto = results['documents']\n",
        "                  fuentes = results['metadatas']\n",
        "                  # Extracting file names from source paths\n",
        "                  file_names = [os.path.basename(source[0]['source']) for source in fuentes]\n",
        "                  contexto = f\"Information: {contexto} and the sources: {file_names}\"\n",
        "                  sys_prompt = f\"\"\"\n",
        "                  Instructions:\n",
        "                  - El resultado debe ser eficiente, preciso y adaptado a la intención original del usuario. Evita la ambigüedad y la vaguedad.\n",
        "                  - Eres un asistente experto en la síntesis de información. Deberás proporcionar respuestas en base al contexto proporcionado. ¡SI LA PREGUNTA DEL USUARIO NO SE PUEDE RESPONDER CON EL CONTENIDO DEL TEXTO, RESPONDE QUE NO LO SABES!\n",
        "                  - RESPONDE BASÁNDOTE ÚNICAMENTE EN LA INFORMACIÓN PROPORCIONADA.\n",
        "                  - No aportes ninguna información extra que no aparezca en el contexto proporcionado.\n",
        "                  - Las respuestas deben ser argumentadas con el contexto, deben ser coherentes y deben ser de gran calidad. Además deberán ser respuestas estructuradas por parrafos y por puntos.\n",
        "                  - Cita las fuentes\n",
        "                  - RESPONDE PARA TODOS LOS CASOS ÚNICA Y EXCLUSIVAMENTE EN ESPAÑOL\n",
        "                  Context: {contexto}\n",
        "                  \"\"\"\n",
        "                  chat_completion = client.chat.completions.create(\n",
        "                      messages=[\n",
        "                          {\n",
        "                              \"role\": \"system\",\n",
        "                              \"content\": f\"{sys_prompt}\"\n",
        "                          },\n",
        "                          {\n",
        "                              \"role\": \"user\",\n",
        "                              \"content\": f\"{user_question}\",\n",
        "                          }\n",
        "                      ],\n",
        "                      model=\"llama3-70b-8192\",\n",
        "                      temperature=0.85,\n",
        "                  )\n",
        "\n",
        "                  # Print response\n",
        "                  print(\"\\n>>\",chat_completion.choices[0].message.content,\"\\n\\n\")\n",
        "\n",
        "\n",
        "\n",
        "def main():\n",
        "    setup_chroma_client()\n",
        "\n",
        "    # Obtener la lista de archivos en el directorio actual\n",
        "    archivos_disponibles = os.listdir(ruta_de_guardado)\n",
        "\n",
        "    if not os.path.exists(FILE_LIST):\n",
        "        with open(FILE_LIST, 'w') as file:\n",
        "            pass\n",
        "\n",
        "    # Mostrar la lista de archivos disponibles al usuario\n",
        "    print('--------------------------')\n",
        "    print(\"Archivos disponibles:\")\n",
        "    print('--------------------------')\n",
        "    for i, archivo in enumerate(archivos_disponibles, start=1):\n",
        "      if archivo.endswith('.pdf'):\n",
        "        print(f\"{i}. {archivo}\")\n",
        "\n",
        "    print('--------------------------')\n",
        "    # Pedir al usuario que elija un archivo\n",
        "    eleccion = int(input(\"Seleccione el número del archivo que desea consultar: \"))\n",
        "    print('--------------------------')\n",
        "    # Verificar si la elección del usuario es válida\n",
        "    if 1 <= eleccion <= len(archivos_disponibles):\n",
        "        file_name = archivos_disponibles[eleccion - 1]\n",
        "\n",
        "        # Verificar si el archivo ya está en la lista de archivos guardados\n",
        "        if file_name in load_name_files(FILE_LIST):\n",
        "            print(\"Archivo cargado.\")\n",
        "            return\n",
        "\n",
        "        # Leer el contenido del archivo seleccionado\n",
        "        with open(file_name, 'rb') as file:\n",
        "            file_content = file.read()\n",
        "\n",
        "        # Guardar el nombre del archivo en la lista de archivos guardados\n",
        "        if save_name_files(FILE_LIST, [file_name]):\n",
        "\n",
        "            # Intentar guardar el archivo en ChromaDB\n",
        "            if text_to_chromadb(file_content, file_name):\n",
        "                print(\"Archivo almacenado con éxito.\")\n",
        "                print('-------------------------- \\n')\n",
        "            else:\n",
        "                print(\"Error al almacenar el archivo en ChromaDB.\")\n",
        "        else:\n",
        "            print(\"Error al guardar el nombre del archivo en la lista de archivos.\")\n",
        "    else:\n",
        "        print(\"La elección no es válida.\")\n",
        "\n"
      ],
      "metadata": {
        "id": "5XHGlOUzTiof"
      },
      "execution_count": null,
      "outputs": []
    },
    {
      "cell_type": "markdown",
      "source": [
        "Los resultados son mejores cuando se carga un pdf en la base de datos. Cuando se añaden más, las distancias de los documentos respecto de la consulta no son muy fiables en términos conceptuales. Puede existir un documento en la base de datos que trate de lo que estás preguntando y devuelve uno que no tiene nada que ver. Por eso lo de cargar un pdf.\n",
        "\n",
        "Aún así para el uso práctico que se le puede dar a este RAG, chatear con un solo documento no está mal.\n",
        "\n",
        "Además, esta base de datos no persiste en el tiempo. Es decir, en borrarse el entorno de ejecución la base de datos desaparece. Hay más configuraciones que permiten la persistencia de la base de datos, pero para la finalidad del proyecto se ha considerado que esto es más que suficiente."
      ],
      "metadata": {
        "id": "bNJMf0f3jIkK"
      }
    },
    {
      "cell_type": "markdown",
      "source": [
        "# Resultado final"
      ],
      "metadata": {
        "id": "c3QxclPDHdn1"
      }
    },
    {
      "cell_type": "markdown",
      "source": [
        "Carga los archivos y a preguntar!"
      ],
      "metadata": {
        "id": "pzXphynaetyh"
      }
    },
    {
      "cell_type": "code",
      "source": [
        "ChatRag()"
      ],
      "metadata": {
        "id": "ndg-NuuqHZtF",
        "collapsed": true
      },
      "execution_count": null,
      "outputs": []
    }
  ]
}